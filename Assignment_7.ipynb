{
 "cells": [
  {
   "cell_type": "markdown",
   "id": "790e7cda",
   "metadata": {},
   "source": [
    "### 1. What is the name of the feature responsible for generating Regex objects?"
   ]
  },
  {
   "cell_type": "markdown",
   "id": "35cc8204",
   "metadata": {},
   "source": [
    "### $re.compile()$"
   ]
  },
  {
   "cell_type": "markdown",
   "id": "c7cc00be",
   "metadata": {},
   "source": [
    "### 2. Why do raw strings often appear in Regex objects?"
   ]
  },
  {
   "cell_type": "markdown",
   "id": "326c05f6",
   "metadata": {},
   "source": [
    "### for not escaping the backslash"
   ]
  },
  {
   "cell_type": "markdown",
   "id": "8b8e68fa",
   "metadata": {},
   "source": [
    "### 3. What is the return value of the search() method?"
   ]
  },
  {
   "cell_type": "markdown",
   "id": "8b3d7c1c",
   "metadata": {},
   "source": [
    "### match objects"
   ]
  },
  {
   "cell_type": "markdown",
   "id": "3d90e44f",
   "metadata": {},
   "source": [
    "### 4. From a Match item, how do you get the actual strings that match the pattern?"
   ]
  },
  {
   "cell_type": "markdown",
   "id": "508da260",
   "metadata": {},
   "source": [
    "### $group()$"
   ]
  },
  {
   "cell_type": "markdown",
   "id": "79fe3060",
   "metadata": {},
   "source": [
    "### 5. In the regex which created from the r'(\\d\\d\\d)-(\\d\\d\\d-\\d\\d\\d\\d)', what does group zero cover? Group 2? Group 1?"
   ]
  },
  {
   "cell_type": "markdown",
   "id": "17a54072",
   "metadata": {},
   "source": [
    "### group 0 for entire match, group 1 for first set of of parenthesis and group 2 for second set of parenthesis"
   ]
  },
  {
   "cell_type": "markdown",
   "id": "384f643e",
   "metadata": {},
   "source": [
    "### 6. In standard expression syntax, parentheses and intervals have distinct meanings. How can you tell a regex that you want it to fit real parentheses and periods?"
   ]
  },
  {
   "cell_type": "markdown",
   "id": "12faea25",
   "metadata": {},
   "source": [
    "### Periods and Parenthesis can be escaped with backslash, `\\` ,  `\\(` , `\\)`"
   ]
  },
  {
   "cell_type": "markdown",
   "id": "e07419e6",
   "metadata": {},
   "source": [
    "### 7. The findall() method returns a string list or a list of string tuples. What causes it to return one of the two options?"
   ]
  },
  {
   "cell_type": "markdown",
   "id": "60476ad6",
   "metadata": {},
   "source": [
    "### if regex has no groups, a list of strings will be returned and if regex has groups, a list of tuples of strings will be returned"
   ]
  },
  {
   "cell_type": "markdown",
   "id": "a8c09905",
   "metadata": {},
   "source": [
    "### 8. In standard expressions, what does the | character mean?"
   ]
  },
  {
   "cell_type": "markdown",
   "id": "c4047e18",
   "metadata": {},
   "source": [
    "### `either`, `or` between two groups"
   ]
  },
  {
   "cell_type": "markdown",
   "id": "3faba532",
   "metadata": {},
   "source": [
    "### 9. In regular expressions, what does the  ? character stand for?"
   ]
  },
  {
   "cell_type": "markdown",
   "id": "512fc9b8",
   "metadata": {},
   "source": [
    "### match zero or one of the preceding group"
   ]
  },
  {
   "cell_type": "markdown",
   "id": "96924b8e",
   "metadata": {},
   "source": [
    "### 10.In regular expressions, what is the difference between the + and * characters?"
   ]
  },
  {
   "cell_type": "markdown",
   "id": "93461bd4",
   "metadata": {},
   "source": [
    "### `+` matches one or more and `*` matches zero or more"
   ]
  },
  {
   "cell_type": "markdown",
   "id": "9031b634",
   "metadata": {},
   "source": [
    "### 11. What is the difference between {4} and {4,5} in regular expression?"
   ]
  },
  {
   "cell_type": "markdown",
   "id": "23415cd1",
   "metadata": {},
   "source": [
    "### `{4}` matches exactly 4 instances of the preceding group and `{4,5}` matches between 4 and 5 instances."
   ]
  },
  {
   "cell_type": "markdown",
   "id": "679d15eb",
   "metadata": {},
   "source": [
    "### 12. What do you mean by the \\d, \\w, and \\s shorthand character classes signify in regular expressions?"
   ]
  },
  {
   "cell_type": "markdown",
   "id": "93faf56b",
   "metadata": {},
   "source": [
    "### `\\d`, `\\w`, `\\s` for matching digit, word , space character."
   ]
  },
  {
   "cell_type": "markdown",
   "id": "e5cde367",
   "metadata": {},
   "source": [
    "### 13. What do means by \\D, \\W, and \\S shorthand character classes signify in regular expressions?"
   ]
  },
  {
   "cell_type": "markdown",
   "id": "f791eb4b",
   "metadata": {},
   "source": [
    "### `\\D`, `\\W`, `\\S` for matching a single character that is not a digit, word , space character."
   ]
  },
  {
   "cell_type": "markdown",
   "id": "bde4582d",
   "metadata": {},
   "source": [
    "### 14. What is the difference between:  . and .?"
   ]
  },
  {
   "cell_type": "markdown",
   "id": "abef6e0b",
   "metadata": {},
   "source": [
    "### the first performs a greedy match and the second one a non greedy match"
   ]
  },
  {
   "cell_type": "markdown",
   "id": "d725fb5d",
   "metadata": {},
   "source": [
    "### 15. What is the syntax for matching both numbers and lowercase letters with a character class?"
   ]
  },
  {
   "cell_type": "markdown",
   "id": "2ba288fb",
   "metadata": {},
   "source": [
    "### either [0 - 9 a - z] or [a - z 0 - 9]"
   ]
  },
  {
   "cell_type": "markdown",
   "id": "d0fecd0b",
   "metadata": {},
   "source": [
    "### 16. What is the procedure for making a normal expression in regax case insensitive?"
   ]
  },
  {
   "cell_type": "markdown",
   "id": "fceb8455",
   "metadata": {},
   "source": [
    "### pass re.I or re.IGNORECASE in the second argument in re.compile()"
   ]
  },
  {
   "cell_type": "markdown",
   "id": "e749dde4",
   "metadata": {},
   "source": [
    "### 17. What does the . character normally match? What does it match if re.DOTALL is passed as 2nd argument in re.compile()?"
   ]
  },
  {
   "cell_type": "markdown",
   "id": "6ab31983",
   "metadata": {},
   "source": [
    "### `.` character matches any character except new line character and `re.DOTALL` passsed as 2nd argument in re.compile() then dot also matches the new line character"
   ]
  },
  {
   "cell_type": "markdown",
   "id": "b48812e6",
   "metadata": {},
   "source": [
    "### 18. If numReg = re.compile(r'\\d+'), what will numRegex.sub('X', '11 drummers, 10 pipers, five rings, 4 hen') return?"
   ]
  },
  {
   "cell_type": "markdown",
   "id": "52374646",
   "metadata": {},
   "source": [
    "### X drummers, X pipers, five rings, X hen"
   ]
  },
  {
   "cell_type": "markdown",
   "id": "0c1ba93a",
   "metadata": {},
   "source": [
    "### 19. What does passing re.VERBOSE as the 2nd argument to re.compile() allow to do?"
   ]
  },
  {
   "cell_type": "markdown",
   "id": "b7e40e76",
   "metadata": {},
   "source": [
    "### it allows us to add whitespace and comments in a string which is passed"
   ]
  },
  {
   "cell_type": "markdown",
   "id": "5876f788",
   "metadata": {},
   "source": [
    "### 20. How would you write a regex that match a number with comma for every three digits? It must match the given following:\n",
    "\n",
    "'42'\n",
    "\n",
    "'1,234'\n",
    "\n",
    "'6,368,745'\n",
    "\n",
    "but not the following:\n",
    "\n",
    "'12,34,567' (which has only two digits between the commas)\n",
    "\n",
    "'1234' (which lacks commas)\n"
   ]
  },
  {
   "cell_type": "code",
   "execution_count": 10,
   "id": "37c83a1b",
   "metadata": {},
   "outputs": [],
   "source": [
    "import re"
   ]
  },
  {
   "cell_type": "code",
   "execution_count": 14,
   "id": "115f3b57",
   "metadata": {},
   "outputs": [],
   "source": [
    "sample = '1,234'"
   ]
  },
  {
   "cell_type": "code",
   "execution_count": 15,
   "id": "d47d880a",
   "metadata": {},
   "outputs": [],
   "source": [
    "check_string = re.compile(r'^\\d{1,3}(,\\d{3})*$')"
   ]
  },
  {
   "cell_type": "code",
   "execution_count": 16,
   "id": "f25b4693",
   "metadata": {},
   "outputs": [
    {
     "data": {
      "text/plain": [
       "[',234']"
      ]
     },
     "execution_count": 16,
     "metadata": {},
     "output_type": "execute_result"
    }
   ],
   "source": [
    "check_string.findall(sample)"
   ]
  },
  {
   "cell_type": "code",
   "execution_count": 17,
   "id": "1e2d98ed",
   "metadata": {},
   "outputs": [],
   "source": [
    "sample = '12,34,567'"
   ]
  },
  {
   "cell_type": "code",
   "execution_count": 18,
   "id": "52ddb5a7",
   "metadata": {},
   "outputs": [
    {
     "data": {
      "text/plain": [
       "[]"
      ]
     },
     "execution_count": 18,
     "metadata": {},
     "output_type": "execute_result"
    }
   ],
   "source": [
    "check_string.findall(sample)"
   ]
  },
  {
   "cell_type": "markdown",
   "id": "ba98b549",
   "metadata": {},
   "source": [
    "### 21. How would you write a regex that matches the full name of someone whose last name is Watanabe? You can assume that the first name that comes before it will always be one word that begins with a capital letter. The regex must match the following:\n",
    "\n",
    "'Haruto Watanabe'\n",
    "\n",
    "'Alice Watanabe'\n",
    "\n",
    "'RoboCop Watanabe'\n",
    "\n",
    "but not the following:\n",
    "\n",
    "'haruto Watanabe' (where the first name is not capitalized)\n",
    "\n",
    "'Mr. Watanabe' (where the preceding word has a nonletter character)\n",
    "\n",
    "'Watanabe' (which has no first name)\n",
    "\n",
    "'Haruto watanabe' (where Watanabe is not capitalized)\n"
   ]
  },
  {
   "cell_type": "code",
   "execution_count": 19,
   "id": "a88f8f15",
   "metadata": {},
   "outputs": [],
   "source": [
    "check_string = re.compile(r'[A-Z][a-z]*\\sWatanabe')"
   ]
  },
  {
   "cell_type": "code",
   "execution_count": 20,
   "id": "a218fb8d",
   "metadata": {},
   "outputs": [
    {
     "data": {
      "text/plain": [
       "['Cop Watanabe']"
      ]
     },
     "execution_count": 20,
     "metadata": {},
     "output_type": "execute_result"
    }
   ],
   "source": [
    "check_string.findall('RoboCop Watanabe')"
   ]
  },
  {
   "cell_type": "code",
   "execution_count": 21,
   "id": "fea6ea65",
   "metadata": {},
   "outputs": [
    {
     "data": {
      "text/plain": [
       "[]"
      ]
     },
     "execution_count": 21,
     "metadata": {},
     "output_type": "execute_result"
    }
   ],
   "source": [
    "check_string.findall('Haruto watanabe')"
   ]
  },
  {
   "cell_type": "markdown",
   "id": "0f26d66b",
   "metadata": {},
   "source": [
    "### 22. How would you write a regex that matches a sentence where the first word is either Alice, Bob, or Carol; the second word is either eats, pets, or throws; the third word is apples, cats, or baseballs; and the sentence ends with a period? This regex should be case-insensitive. It must match the following:\n",
    "\n",
    "'Alice eats apples.'\n",
    "\n",
    "'Bob pets cats.'\n",
    "\n",
    "'Carol throws baseballs.'\n",
    "\n",
    "'Alice throws Apples.'\n",
    "\n",
    "'BOB EATS CATS.'\n",
    "\n",
    "but not the following:\n",
    "\n",
    "'RoboCop eats apples.'\n",
    "\n",
    "'ALICE THROWS FOOTBALLS.'\n",
    "\n",
    "'Carol eats 7 cats.'\n"
   ]
  },
  {
   "cell_type": "code",
   "execution_count": 22,
   "id": "6209931e",
   "metadata": {},
   "outputs": [],
   "source": [
    "check_string = re.compile(r'(Alice|Bob|Carol)\\s(eats|pets|throws)\\s(apples|cats|baseballs)\\.', re.IGNORECASE)"
   ]
  },
  {
   "cell_type": "code",
   "execution_count": 23,
   "id": "8f8bcecd",
   "metadata": {},
   "outputs": [
    {
     "data": {
      "text/plain": [
       "[('BOB', 'EATS', 'CATS')]"
      ]
     },
     "execution_count": 23,
     "metadata": {},
     "output_type": "execute_result"
    }
   ],
   "source": [
    "check_string.findall('BOB EATS CATS.')"
   ]
  },
  {
   "cell_type": "code",
   "execution_count": 24,
   "id": "74ad73e3",
   "metadata": {},
   "outputs": [
    {
     "data": {
      "text/plain": [
       "[]"
      ]
     },
     "execution_count": 24,
     "metadata": {},
     "output_type": "execute_result"
    }
   ],
   "source": [
    "check_string.findall('Carol eats 7 cats.')"
   ]
  },
  {
   "cell_type": "code",
   "execution_count": null,
   "id": "16e73850",
   "metadata": {},
   "outputs": [],
   "source": []
  }
 ],
 "metadata": {
  "kernelspec": {
   "display_name": "Python 3 (ipykernel)",
   "language": "python",
   "name": "python3"
  },
  "language_info": {
   "codemirror_mode": {
    "name": "ipython",
    "version": 3
   },
   "file_extension": ".py",
   "mimetype": "text/x-python",
   "name": "python",
   "nbconvert_exporter": "python",
   "pygments_lexer": "ipython3",
   "version": "3.9.7"
  }
 },
 "nbformat": 4,
 "nbformat_minor": 5
}
