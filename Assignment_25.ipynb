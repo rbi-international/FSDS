{
 "cells": [
  {
   "cell_type": "markdown",
   "id": "7cc31543",
   "metadata": {},
   "source": [
    "### 1) . What is the difference between enclosing a list comprehension in square brackets and parentheses?"
   ]
  },
  {
   "cell_type": "code",
   "execution_count": 1,
   "id": "1f6fdbce",
   "metadata": {},
   "outputs": [
    {
     "data": {
      "text/plain": [
       "[0, 1, 2, 3, 4, 5, 6, 7, 8, 9]"
      ]
     },
     "execution_count": 1,
     "metadata": {},
     "output_type": "execute_result"
    }
   ],
   "source": [
    "lst = [i for i in range(10)]\n",
    "lst"
   ]
  },
  {
   "cell_type": "markdown",
   "id": "034e7fb2",
   "metadata": {},
   "source": [
    "### enclosing list in square brackets produces list\n",
    "\n",
    "### enclosing list in parenthesis produce generators"
   ]
  },
  {
   "cell_type": "markdown",
   "id": "b8928200",
   "metadata": {},
   "source": [
    "### 2) What is the relationship between generators and iterators?"
   ]
  },
  {
   "cell_type": "markdown",
   "id": "71bb628e",
   "metadata": {},
   "source": [
    "### `iterators`, Iterator in python is an object that is used to iterate over iterable objects like lists, tuples, dicts, and sets. The iterator object is initialized using the iter() method. It uses the next() method for iteration.\n",
    "\n",
    "### `generators`, A generator-function is defined like a normal function, but whenever it needs to generate a value, it does so with the yield keyword rather than return. If the body of a def contains yield, the function automatically becomes a generator function"
   ]
  },
  {
   "cell_type": "code",
   "execution_count": 2,
   "id": "f636acc6",
   "metadata": {},
   "outputs": [],
   "source": [
    "iter_list = iter([\"alpha\", \"beta\", \"gamma\"])"
   ]
  },
  {
   "cell_type": "code",
   "execution_count": 3,
   "id": "b412655d",
   "metadata": {},
   "outputs": [
    {
     "name": "stdout",
     "output_type": "stream",
     "text": [
      "alpha\n",
      "beta\n",
      "gamma\n"
     ]
    }
   ],
   "source": [
    "print(next(iter_list))\n",
    "print(next(iter_list))\n",
    "print(next(iter_list))"
   ]
  },
  {
   "cell_type": "code",
   "execution_count": 9,
   "id": "b4b10d90",
   "metadata": {},
   "outputs": [],
   "source": [
    "def square(n):\n",
    "    for i in range(1, n + 1):\n",
    "        yield i * i"
   ]
  },
  {
   "cell_type": "code",
   "execution_count": 10,
   "id": "f93488c3",
   "metadata": {},
   "outputs": [
    {
     "data": {
      "text/plain": [
       "<generator object square at 0x000001EF5E67C120>"
      ]
     },
     "execution_count": 10,
     "metadata": {},
     "output_type": "execute_result"
    }
   ],
   "source": [
    "ans = square(6)\n",
    "ans"
   ]
  },
  {
   "cell_type": "code",
   "execution_count": 11,
   "id": "7e8dd235",
   "metadata": {},
   "outputs": [
    {
     "name": "stdout",
     "output_type": "stream",
     "text": [
      "1\n",
      "4\n",
      "9\n",
      "16\n"
     ]
    }
   ],
   "source": [
    "print(next(ans))\n",
    "print(next(ans))\n",
    "print(next(ans))\n",
    "print(next(ans))\n",
    "    "
   ]
  },
  {
   "cell_type": "markdown",
   "id": "4adb589f",
   "metadata": {},
   "source": [
    "### 3) What are the signs that a function is a generator function?"
   ]
  },
  {
   "cell_type": "markdown",
   "id": "164b115f",
   "metadata": {},
   "source": [
    "### if the function contains atleast one yield statement, it will produce generators. it will not produce direct output, for that either we have to use loop or use next() for getting the output. "
   ]
  },
  {
   "cell_type": "markdown",
   "id": "cbc7d39c",
   "metadata": {},
   "source": [
    "### 4) What is the purpose of a yield statement?"
   ]
  },
  {
   "cell_type": "markdown",
   "id": "8ed35702",
   "metadata": {},
   "source": [
    "### yield statement is like the return statement, return stops the execution of the program while yield will provide values to the current loop for the execution process."
   ]
  },
  {
   "cell_type": "markdown",
   "id": "3bf5360b",
   "metadata": {},
   "source": [
    "### 5) What is the relationship between map calls and list comprehensions? Make a comparison and contrast between the two."
   ]
  },
  {
   "cell_type": "markdown",
   "id": "14b79a70",
   "metadata": {},
   "source": [
    "Map function: Suppose we have a function and we want to compute this function for different values in a single line of code\n",
    "    \n",
    "If we already have a function defined, it is often good to use map For example, map(sum, myLists) is more neat than [sum(x) for x in myLists]."
   ]
  },
  {
   "cell_type": "markdown",
   "id": "59d05957",
   "metadata": {},
   "source": [
    "List Comprehension is a substitute for the lambda function, map(), filter() and reduce()"
   ]
  },
  {
   "cell_type": "markdown",
   "id": "c9ddf4d1",
   "metadata": {},
   "source": [
    "List comprehension is more concise and easier to read as compared to map\n",
    "\n",
    "List comprehension are used when a list of results is required, where as map only returns a map object and does not return any list.\n",
    "\n",
    "List comprehension is faster than map when we need to evaluate expressions that are too long or complicated to express"
   ]
  },
  {
   "cell_type": "code",
   "execution_count": null,
   "id": "00252d54",
   "metadata": {},
   "outputs": [],
   "source": []
  }
 ],
 "metadata": {
  "kernelspec": {
   "display_name": "Python 3 (ipykernel)",
   "language": "python",
   "name": "python3"
  },
  "language_info": {
   "codemirror_mode": {
    "name": "ipython",
    "version": 3
   },
   "file_extension": ".py",
   "mimetype": "text/x-python",
   "name": "python",
   "nbconvert_exporter": "python",
   "pygments_lexer": "ipython3",
   "version": "3.9.7"
  }
 },
 "nbformat": 4,
 "nbformat_minor": 5
}
