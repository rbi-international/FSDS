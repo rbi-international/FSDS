{
 "cells": [
  {
   "cell_type": "markdown",
   "id": "03be6f57",
   "metadata": {},
   "source": [
    "## 1. In the below elements which of them are values or an expression? eg:- values can be integer or string and expressions will be mathematical operators.\n",
    "\n",
    "*\n",
    "\n",
    "'hello'\n",
    "\n",
    "-87.8\n",
    "\n",
    "-\n",
    "\n",
    "/ \n",
    "\n",
    "6 \n"
   ]
  },
  {
   "cell_type": "markdown",
   "id": "352303c1",
   "metadata": {},
   "source": [
    "### Q1. Answer\n",
    "\n",
    "\n",
    " $*$ is a expression\n",
    "\n",
    " $'hello'$ is a string\n",
    "\n",
    " $-87.8$ is float\n",
    "\n",
    " $-$ is an expression\n",
    "\n",
    " $/$ is a an expression\n",
    "\n",
    " $6$ is an integer\n"
   ]
  },
  {
   "cell_type": "markdown",
   "id": "ebb51ae8",
   "metadata": {},
   "source": [
    "## 2. What is the difference between string and variable?\n"
   ]
  },
  {
   "cell_type": "markdown",
   "id": "5e5fc366",
   "metadata": {},
   "source": [
    "### Q2. Answer\n",
    "\n",
    "A string is a collection of elements between single quotes $''$ or double quotes $\"\"$, and it will be printed as it is.\n",
    "\n",
    "Example: $'Hello'$\n",
    "\n",
    "Whereas variable is like a container where we can store strings, integers, float etc.\n",
    "\n",
    "Example: a = 1 + 2,   Here $a$ is a variable."
   ]
  },
  {
   "cell_type": "markdown",
   "id": "baa9c45f",
   "metadata": {},
   "source": [
    "### 3. Describe three different data types.\n"
   ]
  },
  {
   "cell_type": "markdown",
   "id": "32c3c301",
   "metadata": {},
   "source": [
    "### Q3. Answer\n",
    "\n",
    "A Data type means the kind of data which we are dealing with. Example $Integer, Float, String$ etc.\n",
    "\n",
    "1)  Integer - Any numerical value like 1, 2, 33, 88, 99999 , 0, 55 is a integer.\n",
    "\n",
    "2)  Float - Any numerical value like 1.1, 2.00, 88.099, represents float.\n",
    "\n",
    "3) Strings - A value between quotes like \"Hello\", \"124\", \"Ineuron\" etc is a string."
   ]
  },
  {
   "cell_type": "markdown",
   "id": "d72186ff",
   "metadata": {},
   "source": [
    "### 4. What is an expression made up of? What do all expressions do?\n"
   ]
  },
  {
   "cell_type": "markdown",
   "id": "871ef29c",
   "metadata": {},
   "source": [
    "### Q3. Answer\n",
    "\n",
    "An expression consists of operators and operands to perform certain operation.\n",
    "\n",
    "Example: a + b = c\n",
    "\n",
    "here $a$ and $b$ are $operands(variables)$ and $c$ is a constant variable whose ouput will depenfd upon a and b.\n",
    "\n",
    "Here $+$ is a operator and $=$ shows relation with $c$"
   ]
  },
  {
   "cell_type": "markdown",
   "id": "a567ca8c",
   "metadata": {},
   "source": [
    "### 5. This assignment statements, like spam = 10. What is the difference between an expression and a statement?\n"
   ]
  },
  {
   "cell_type": "markdown",
   "id": "219eea5e",
   "metadata": {},
   "source": [
    "### Q5. Answer\n",
    "\n",
    "The assignment statement , like spam = 10 will just assign a value to the variable $spam$\n",
    "\n",
    "But an expression will be like $spam + ham = Fullemail$\n",
    "\n",
    "In the first only we will assign a value but in second a proper output will come after manipulation of the $respective variables$."
   ]
  },
  {
   "cell_type": "markdown",
   "id": "9542403f",
   "metadata": {},
   "source": [
    "### 6. After running the following code, what does the variable bacon contain?\n",
    "bacon = 22\n",
    "\n",
    "bacon + 1\n"
   ]
  },
  {
   "cell_type": "code",
   "execution_count": 4,
   "id": "6db3d3fd",
   "metadata": {},
   "outputs": [
    {
     "data": {
      "text/plain": [
       "23"
      ]
     },
     "execution_count": 4,
     "metadata": {},
     "output_type": "execute_result"
    }
   ],
   "source": [
    "### Q6. Answer\n",
    "\n",
    "bacon = 22\n",
    "bacon + 1            # bacon contains 23"
   ]
  },
  {
   "cell_type": "markdown",
   "id": "84081e8d",
   "metadata": {},
   "source": [
    "### 7. What should the values of the following two terms be?\n",
    "'spam' + 'spamspam'\n",
    "\n",
    "'spam' * 3\n"
   ]
  },
  {
   "cell_type": "code",
   "execution_count": 6,
   "id": "3dad1796",
   "metadata": {},
   "outputs": [
    {
     "data": {
      "text/plain": [
       "'spamspamspam'"
      ]
     },
     "execution_count": 6,
     "metadata": {},
     "output_type": "execute_result"
    }
   ],
   "source": [
    "### Q7. Answer\n",
    "\n",
    "'spam' + 'spamspam'\n",
    "'spam' * 3             # spam will be multiplied three times"
   ]
  },
  {
   "cell_type": "markdown",
   "id": "a5835492",
   "metadata": {},
   "source": [
    "### 8. Why is eggs a valid variable name while 100 is invalid?\n"
   ]
  },
  {
   "cell_type": "markdown",
   "id": "b7825c3a",
   "metadata": {},
   "source": [
    "### Q8. Answer\n",
    "\n",
    "$eggs$ a valid variable name and $100$ is invalid because in python \n",
    "\n",
    "variable name must start wih a $letter$ or the $underscore$ `_` character"
   ]
  },
  {
   "cell_type": "markdown",
   "id": "e69b3d1d",
   "metadata": {},
   "source": [
    "### 9. What three functions can be used to get the integer, floating-point number, or string version of a value?\n"
   ]
  },
  {
   "cell_type": "markdown",
   "id": "2814fe38",
   "metadata": {},
   "source": [
    "### Q9. Answer\n",
    "\n",
    "Suppose we have a value which is 123, whic is itself a integer.\n",
    "\n",
    "we could use str() function for converting it to string and float() function to convert it to float.\n",
    "\n",
    "similarly, int() , float(), and str() function called as type casting can be done to convert one value to another."
   ]
  },
  {
   "cell_type": "markdown",
   "id": "fb25f1e0",
   "metadata": {},
   "source": [
    "### 10. Why does this expression cause an error? How can you fix it?\n",
    "\n",
    "'I have eaten ' + 99 + ' burritos.'\n"
   ]
  },
  {
   "cell_type": "code",
   "execution_count": 12,
   "id": "f481d197",
   "metadata": {},
   "outputs": [
    {
     "data": {
      "text/plain": [
       "'i have eaten 99 burritos'"
      ]
     },
     "execution_count": 12,
     "metadata": {},
     "output_type": "execute_result"
    }
   ],
   "source": [
    "# As we cannot concaTENATE STR WITH INT, SO using type casting of str() function. \n",
    "'i have eaten ' + str(99) + ' burritos'"
   ]
  },
  {
   "cell_type": "code",
   "execution_count": null,
   "id": "c9f44db8",
   "metadata": {},
   "outputs": [],
   "source": []
  }
 ],
 "metadata": {
  "kernelspec": {
   "display_name": "Python 3 (ipykernel)",
   "language": "python",
   "name": "python3"
  },
  "language_info": {
   "codemirror_mode": {
    "name": "ipython",
    "version": 3
   },
   "file_extension": ".py",
   "mimetype": "text/x-python",
   "name": "python",
   "nbconvert_exporter": "python",
   "pygments_lexer": "ipython3",
   "version": "3.9.7"
  }
 },
 "nbformat": 4,
 "nbformat_minor": 5
}
