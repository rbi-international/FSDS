{
 "cells": [
  {
   "cell_type": "markdown",
   "id": "1c555163",
   "metadata": {},
   "source": [
    "### 1. In what modes should the PdfFileReader() and PdfFileWriter() File objects will be opened?"
   ]
  },
  {
   "cell_type": "markdown",
   "id": "e1526866",
   "metadata": {},
   "source": [
    "### PdfReader() mode is `rb` and PdfWriter() mode is `wb`"
   ]
  },
  {
   "cell_type": "markdown",
   "id": "23cc1db0",
   "metadata": {},
   "source": [
    "### 2. From a PdfFileReader object, how do you get a Page object for page 5?"
   ]
  },
  {
   "cell_type": "markdown",
   "id": "785a6877",
   "metadata": {},
   "source": [
    "### object_name.getPage(5)"
   ]
  },
  {
   "cell_type": "markdown",
   "id": "dc84c3cb",
   "metadata": {},
   "source": [
    "### 3. What PdfFileReader variable stores the number of pages in the PDF document?"
   ]
  },
  {
   "cell_type": "markdown",
   "id": "05da4d23",
   "metadata": {},
   "source": [
    "### object_name.numPages"
   ]
  },
  {
   "cell_type": "markdown",
   "id": "3a4e8362",
   "metadata": {},
   "source": [
    "### 4. If a PdfFileReader object’s PDF is encrypted with the password swordfish, what must you do before you can obtain Page objects from it?"
   ]
  },
  {
   "cell_type": "markdown",
   "id": "e5900d13",
   "metadata": {},
   "source": [
    "### object_name.decrypt('swordfish')\n",
    "\n",
    "### object_name.getPage(pageNumber)"
   ]
  },
  {
   "cell_type": "markdown",
   "id": "0b8e6b4e",
   "metadata": {},
   "source": [
    "### 5. What methods do you use to rotate a page?"
   ]
  },
  {
   "cell_type": "markdown",
   "id": "9d3c7dd6",
   "metadata": {},
   "source": [
    "### `rotateClockwise()` and `rotateCounterClockwise()` with values 90, 180 or 270"
   ]
  },
  {
   "cell_type": "markdown",
   "id": "a16fe9e2",
   "metadata": {},
   "source": [
    "### 6. What is the difference between a Run object and a Paragraph object?"
   ]
  },
  {
   "cell_type": "markdown",
   "id": "252ea6e7",
   "metadata": {},
   "source": [
    "### First a paragraph object is created and then we have access to the full document and then by using the run object with paragraph object we could call the paragraph one line by one line or specify the limit.\n",
    "\n",
    "### Paragraph objects contains a list of one or more Run objects\n",
    "\n",
    "### A Run object is a contiguous run of text with the same style"
   ]
  },
  {
   "cell_type": "markdown",
   "id": "f7386f11",
   "metadata": {},
   "source": [
    "### 7. How do you obtain a list of Paragraph objects for a Document object that’s stored in a variable named doc?"
   ]
  },
  {
   "cell_type": "code",
   "execution_count": 3,
   "id": "4345e691",
   "metadata": {},
   "outputs": [
    {
     "data": {
      "text/plain": [
       "'“This is the First Line of the paragraph”'"
      ]
     },
     "execution_count": 3,
     "metadata": {},
     "output_type": "execute_result"
    }
   ],
   "source": [
    "import docx\n",
    "doc =  docx.Document('demo.docx')\n",
    "doc.paragraphs[0].text"
   ]
  },
  {
   "cell_type": "markdown",
   "id": "7cf9e96c",
   "metadata": {},
   "source": [
    "### 8. What type of object has bold, underline, italic, strike, and outline variables?"
   ]
  },
  {
   "cell_type": "markdown",
   "id": "72a55250",
   "metadata": {},
   "source": [
    "### paragraph_object.style\n",
    "\n",
    "### run_object.style"
   ]
  },
  {
   "cell_type": "markdown",
   "id": "dd326be7",
   "metadata": {},
   "source": [
    "### 9. What is the difference between False, True, and None for the bold variable?"
   ]
  },
  {
   "cell_type": "markdown",
   "id": "9824a0a1",
   "metadata": {},
   "source": [
    "### In False: style attribute is disabled and default will run\n",
    "\n",
    "### In True: style attribute is enabled and we can change the style\n",
    "\n",
    "### In None: whatever attribute is set in the whole document"
   ]
  },
  {
   "cell_type": "markdown",
   "id": "b6174abf",
   "metadata": {},
   "source": [
    "### 10. How do you create a Document object for a new Word document?"
   ]
  },
  {
   "cell_type": "code",
   "execution_count": 4,
   "id": "39b25c2e",
   "metadata": {},
   "outputs": [],
   "source": [
    "doc =  docx.Document()  # new document will be created with doc as its object"
   ]
  },
  {
   "cell_type": "markdown",
   "id": "6b15ff0b",
   "metadata": {},
   "source": [
    "### 11. How do you add a paragraph with the text 'Hello, there!' to a Document object stored in a variable named doc?"
   ]
  },
  {
   "cell_type": "code",
   "execution_count": 5,
   "id": "a5c4ff02",
   "metadata": {},
   "outputs": [
    {
     "data": {
      "text/plain": [
       "<docx.text.paragraph.Paragraph at 0x1e1b60b8c10>"
      ]
     },
     "execution_count": 5,
     "metadata": {},
     "output_type": "execute_result"
    }
   ],
   "source": [
    "doc =  docx.Document()\n",
    "doc.add_paragraph('Hello,there!')"
   ]
  },
  {
   "cell_type": "markdown",
   "id": "179bf74e",
   "metadata": {},
   "source": [
    "### 12. What integers represent the levels of headings available in Word documents?"
   ]
  },
  {
   "cell_type": "markdown",
   "id": "282c7532",
   "metadata": {},
   "source": [
    "### Integer from `0 to 4`"
   ]
  },
  {
   "cell_type": "code",
   "execution_count": null,
   "id": "b1e3d28e",
   "metadata": {},
   "outputs": [],
   "source": []
  }
 ],
 "metadata": {
  "kernelspec": {
   "display_name": "Python 3 (ipykernel)",
   "language": "python",
   "name": "python3"
  },
  "language_info": {
   "codemirror_mode": {
    "name": "ipython",
    "version": 3
   },
   "file_extension": ".py",
   "mimetype": "text/x-python",
   "name": "python",
   "nbconvert_exporter": "python",
   "pygments_lexer": "ipython3",
   "version": "3.9.7"
  }
 },
 "nbformat": 4,
 "nbformat_minor": 5
}
