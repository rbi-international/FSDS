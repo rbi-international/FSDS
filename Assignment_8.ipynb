{
 "cells": [
  {
   "cell_type": "markdown",
   "id": "38c96990",
   "metadata": {},
   "source": [
    "### 1. Is the Python Standard Library included with PyInputPlus?"
   ]
  },
  {
   "cell_type": "markdown",
   "id": "ac0f7d47",
   "metadata": {},
   "source": [
    "### No, we have to install pyInputPlus using a pip command"
   ]
  },
  {
   "cell_type": "markdown",
   "id": "04f8118e",
   "metadata": {},
   "source": [
    "### 2. Why is PyInputPlus commonly imported with import pyinputplus as pypi?"
   ]
  },
  {
   "cell_type": "markdown",
   "id": "1d856135",
   "metadata": {},
   "source": [
    "### it is just a alias, we can use any name instead of pypi"
   ]
  },
  {
   "cell_type": "markdown",
   "id": "57dcf5e8",
   "metadata": {},
   "source": [
    "### 3. How do you distinguish between inputInt() and inputFloat()?"
   ]
  },
  {
   "cell_type": "markdown",
   "id": "39f63b05",
   "metadata": {},
   "source": [
    "### `inputInt()` only accepts integer and `inputFloat()` accepts only ineteger. "
   ]
  },
  {
   "cell_type": "markdown",
   "id": "e5e27a17",
   "metadata": {},
   "source": [
    "### 4. Using PyInputPlus, how do you ensure that the user enters a whole number between 0 and 99?"
   ]
  },
  {
   "cell_type": "markdown",
   "id": "d0ca48e1",
   "metadata": {},
   "source": [
    "### By using $inputInt()$ and setting default value to zero."
   ]
  },
  {
   "cell_type": "markdown",
   "id": "4eeb01a3",
   "metadata": {},
   "source": [
    "### 5. What is transferred to the keyword arguments allowRegexes and blockRegexes?"
   ]
  },
  {
   "cell_type": "markdown",
   "id": "1d42df53",
   "metadata": {},
   "source": [
    "### in $allowRegexes$ we could give the input which we want to allow and in $blockRegexes$ will block the input which we do not want, like time out in seconds etc"
   ]
  },
  {
   "cell_type": "markdown",
   "id": "b983ef7e",
   "metadata": {},
   "source": [
    "### 6. If a blank input is entered three times, what does inputStr(limit=3) do?"
   ]
  },
  {
   "cell_type": "markdown",
   "id": "e0e7d6ad",
   "metadata": {},
   "source": [
    "### Retry Limit Exception if blank is set to False and if blank is set to True, after one blank entry it will terminate and come out of the program."
   ]
  },
  {
   "cell_type": "markdown",
   "id": "cf2cfacb",
   "metadata": {},
   "source": [
    "### 7. If blank input is entered three times, what does inputStr(limit=3, default='hello') do?"
   ]
  },
  {
   "cell_type": "markdown",
   "id": "0ff89afa",
   "metadata": {},
   "source": [
    "### After 3 blanks, $\"hello\"$ will be printed."
   ]
  },
  {
   "cell_type": "code",
   "execution_count": null,
   "id": "2a177b9b",
   "metadata": {},
   "outputs": [],
   "source": []
  }
 ],
 "metadata": {
  "kernelspec": {
   "display_name": "Python 3 (ipykernel)",
   "language": "python",
   "name": "python3"
  },
  "language_info": {
   "codemirror_mode": {
    "name": "ipython",
    "version": 3
   },
   "file_extension": ".py",
   "mimetype": "text/x-python",
   "name": "python",
   "nbconvert_exporter": "python",
   "pygments_lexer": "ipython3",
   "version": "3.9.7"
  }
 },
 "nbformat": 4,
 "nbformat_minor": 5
}
