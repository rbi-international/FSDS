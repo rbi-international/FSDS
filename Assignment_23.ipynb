{
 "cells": [
  {
   "cell_type": "markdown",
   "id": "e3975bcd",
   "metadata": {},
   "source": [
    "### 1. What is the result of the code, and why?\n",
    ">>> def func(a, b=6, c=8):\n",
    "print(a, b, c)\n",
    ">>> func(1, 2)\n"
   ]
  },
  {
   "cell_type": "code",
   "execution_count": 1,
   "id": "d221b757",
   "metadata": {},
   "outputs": [
    {
     "name": "stdout",
     "output_type": "stream",
     "text": [
      "1 2 8\n"
     ]
    }
   ],
   "source": [
    "def func(a, b = 6, c = 8):\n",
    "    print(a,b,c)\n",
    "func(1,2)"
   ]
  },
  {
   "cell_type": "markdown",
   "id": "460e569a",
   "metadata": {},
   "source": [
    "### This func is taking a positional arguments and keywords arguments, when parameters are passed for a and b, a is written as it is and b is override and deafult value of c is taken as c = 8"
   ]
  },
  {
   "cell_type": "markdown",
   "id": "ea213a94",
   "metadata": {},
   "source": [
    "### 2. What is the result of this code, and why?\n",
    ">>> def func(a, b, c=5):\n",
    "print(a, b, c)\n",
    ">>> func(1, c=3, b=2)\n"
   ]
  },
  {
   "cell_type": "code",
   "execution_count": 2,
   "id": "62e68908",
   "metadata": {},
   "outputs": [
    {
     "name": "stdout",
     "output_type": "stream",
     "text": [
      "1 2 3\n"
     ]
    }
   ],
   "source": [
    "def func(a, b, c = 5):\n",
    "    print(a,b,c)\n",
    "func(1, c = 3, b = 2)"
   ]
  },
  {
   "cell_type": "markdown",
   "id": "ec97911e",
   "metadata": {},
   "source": [
    "### Here again a and b values are passed when calling it and c default value is over ridden and the positions can be changed as long as we prvide correct keyword argument"
   ]
  },
  {
   "cell_type": "markdown",
   "id": "5dc20544",
   "metadata": {},
   "source": [
    "### 3. How about this code: what is its result, and why?\n",
    ">>> def func(a, *pargs):\n",
    "print(a, pargs)\n",
    ">>> func(1, 2, 3)\n"
   ]
  },
  {
   "cell_type": "code",
   "execution_count": 3,
   "id": "11961424",
   "metadata": {},
   "outputs": [
    {
     "name": "stdout",
     "output_type": "stream",
     "text": [
      "1 (2, 3)\n"
     ]
    }
   ],
   "source": [
    "def func(a, *pargs):\n",
    "    print(a, pargs)\n",
    "func(1,2,3)"
   ]
  },
  {
   "cell_type": "markdown",
   "id": "82f031bb",
   "metadata": {},
   "source": [
    "### return value of *args is tuple and **args is dictionary\n",
    "\n",
    "### so, a will return 1 as positional argument and **pargs will return (2,3) as tuple"
   ]
  },
  {
   "cell_type": "markdown",
   "id": "7f094ed9",
   "metadata": {},
   "source": [
    "### 4. What does this code print, and why?\n",
    ">>> def func(a, **kargs):\n",
    "print(a, kargs)\n",
    ">>> func(a=1, c=3, b=2)\n"
   ]
  },
  {
   "cell_type": "code",
   "execution_count": 5,
   "id": "40158230",
   "metadata": {},
   "outputs": [
    {
     "name": "stdout",
     "output_type": "stream",
     "text": [
      "1 {'c': 3, 'b': 2}\n"
     ]
    }
   ],
   "source": [
    "def func(a, **kargs):\n",
    "    print(a, kargs)\n",
    "func(a = 1, c = 3, b = 2)"
   ]
  },
  {
   "cell_type": "markdown",
   "id": "e7067683",
   "metadata": {},
   "source": [
    "### As the return type of **kargs is dictionary so c and b are treated like it and a is taken as positional argument."
   ]
  },
  {
   "cell_type": "markdown",
   "id": "bda16074",
   "metadata": {},
   "source": [
    "### 5. What gets printed by this, and explain?\n",
    ">>> def func(a, b, c=8, d=5): print(a, b, c, d)\n",
    ">>> func(1, *(5, 6))\n"
   ]
  },
  {
   "cell_type": "code",
   "execution_count": 6,
   "id": "983eee8e",
   "metadata": {},
   "outputs": [
    {
     "name": "stdout",
     "output_type": "stream",
     "text": [
      "1 5 6 5\n"
     ]
    }
   ],
   "source": [
    "def func(a, b, c = 8, d = 5):\n",
    "    print(a,b,c,d)\n",
    "func(1, *(5,6))"
   ]
  },
  {
   "cell_type": "markdown",
   "id": "0df35cfe",
   "metadata": {},
   "source": [
    "### `*`, is an unpacking operator which unpacks the values and give it to the variables. Here *(5,6) will be unpacked and passed to variable b and c and 1 will be passed to a and d = 5 will be taken as default"
   ]
  },
  {
   "cell_type": "markdown",
   "id": "68528558",
   "metadata": {},
   "source": [
    "### 6. what is the result of this, and explain?\n",
    ">>> def func(a, b, c): a = 2; b[0] = 'x'; c['a'] = 'y'\n",
    ">>> l=1; m=[1]; n={'a':0}\n",
    ">>> func(l, m, n)\n",
    ">>> l, m, n\n"
   ]
  },
  {
   "cell_type": "code",
   "execution_count": 7,
   "id": "71e3764f",
   "metadata": {},
   "outputs": [
    {
     "data": {
      "text/plain": [
       "(1, ['x'], {'a': 'y'})"
      ]
     },
     "execution_count": 7,
     "metadata": {},
     "output_type": "execute_result"
    }
   ],
   "source": [
    "def func(a, b, c): \n",
    "    a = 2; b[0] = 'x'; c['a'] = 'y'\n",
    "    \n",
    "l=1; m=[1]; n={'a':0}\n",
    "func(l, m, n)\n",
    "\n",
    "l, m, n"
   ]
  },
  {
   "cell_type": "markdown",
   "id": "39f69cd1",
   "metadata": {},
   "source": [
    "### Here list and dictionaries are passed as parameter. l and m are list and c and n are dictionary.\n",
    "\n",
    "### l = 1 and a = 2 will give 2, m and b will give '[x]' and a and n will give {'a':'y'}"
   ]
  },
  {
   "cell_type": "code",
   "execution_count": null,
   "id": "cac81ae1",
   "metadata": {},
   "outputs": [],
   "source": []
  }
 ],
 "metadata": {
  "kernelspec": {
   "display_name": "Python 3 (ipykernel)",
   "language": "python",
   "name": "python3"
  },
  "language_info": {
   "codemirror_mode": {
    "name": "ipython",
    "version": 3
   },
   "file_extension": ".py",
   "mimetype": "text/x-python",
   "name": "python",
   "nbconvert_exporter": "python",
   "pygments_lexer": "ipython3",
   "version": "3.9.7"
  }
 },
 "nbformat": 4,
 "nbformat_minor": 5
}
