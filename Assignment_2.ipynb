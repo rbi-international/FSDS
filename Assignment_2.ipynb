{
 "cells": [
  {
   "cell_type": "markdown",
   "id": "dd001766",
   "metadata": {},
   "source": [
    "### 1.What are the two values of the Boolean data type? How do you write them?"
   ]
  },
  {
   "cell_type": "markdown",
   "id": "4bdd6911",
   "metadata": {},
   "source": [
    "There are two values of Boolean Data type, namely $True$ and $False$"
   ]
  },
  {
   "cell_type": "markdown",
   "id": "fa5e9388",
   "metadata": {},
   "source": [
    "### 2. What are the three different types of Boolean operators?\n"
   ]
  },
  {
   "cell_type": "markdown",
   "id": "e495edbd",
   "metadata": {},
   "source": [
    "The three types of Boolean operators are $and$, $or$ and $not$"
   ]
  },
  {
   "cell_type": "markdown",
   "id": "91bfa928",
   "metadata": {},
   "source": [
    "### 3. Make a list of each Boolean operator's truth tables (i.e. every possible combination of Boolean values for the operator and what it evaluate ).\n",
    "\n",
    "1 is for true and 0 is for False"
   ]
  },
  {
   "cell_type": "markdown",
   "id": "47d76ee7",
   "metadata": {},
   "source": [
    "### For $and$ operator\n",
    "\n",
    "p q output\n",
    "\n",
    "0 0   0\n",
    "\n",
    "0 1   0\n",
    "\n",
    "1 0   0\n",
    "\n",
    "1 1   1\n",
    "\n",
    "in `and` operator both inputs should be correct for the output to be correct."
   ]
  },
  {
   "cell_type": "markdown",
   "id": "ffcedf9b",
   "metadata": {},
   "source": [
    "### For $or$ operator\n",
    "\n",
    "p q output\n",
    "\n",
    "0 0   0\n",
    "\n",
    "0 1   1\n",
    "\n",
    "1 0   1\n",
    "\n",
    "1 1   1\n",
    "\n",
    "in `or` operator only one input should be correct for the output to be correct."
   ]
  },
  {
   "cell_type": "markdown",
   "id": "0d5a902b",
   "metadata": {},
   "source": [
    "### For $not$ operator\n",
    "\n",
    "p  ~p\n",
    "\n",
    "0 1\n",
    "\n",
    "1 0\n",
    "\n",
    "in `not` operator, it simply reverses, whatever the input is."
   ]
  },
  {
   "cell_type": "markdown",
   "id": "3fd60197",
   "metadata": {},
   "source": [
    "4. What are the values of the following expressions?\n",
    "\n",
    "(5 > 4) and (3 == 5)\n",
    "\n",
    "not (5 > 4)\n",
    "\n",
    "(5 > 4) or (3 == 5)\n",
    "\n",
    "not ((5 > 4) or (3 == 5))\n",
    "\n",
    "(True and True) and (True == False)\n",
    "\n",
    "(not False) or (not True)\n"
   ]
  },
  {
   "cell_type": "code",
   "execution_count": 1,
   "id": "1a24b52b",
   "metadata": {},
   "outputs": [
    {
     "data": {
      "text/plain": [
       "False"
      ]
     },
     "execution_count": 1,
     "metadata": {},
     "output_type": "execute_result"
    }
   ],
   "source": [
    "(5>4) and (3==5)"
   ]
  },
  {
   "cell_type": "code",
   "execution_count": 2,
   "id": "20515ce4",
   "metadata": {},
   "outputs": [
    {
     "data": {
      "text/plain": [
       "False"
      ]
     },
     "execution_count": 2,
     "metadata": {},
     "output_type": "execute_result"
    }
   ],
   "source": [
    "not(5>4)"
   ]
  },
  {
   "cell_type": "code",
   "execution_count": 3,
   "id": "f624faa2",
   "metadata": {},
   "outputs": [
    {
     "data": {
      "text/plain": [
       "True"
      ]
     },
     "execution_count": 3,
     "metadata": {},
     "output_type": "execute_result"
    }
   ],
   "source": [
    "(5>4) or (3==5)"
   ]
  },
  {
   "cell_type": "code",
   "execution_count": 4,
   "id": "1488d186",
   "metadata": {},
   "outputs": [
    {
     "data": {
      "text/plain": [
       "False"
      ]
     },
     "execution_count": 4,
     "metadata": {},
     "output_type": "execute_result"
    }
   ],
   "source": [
    "not((5>4) or (3==5))"
   ]
  },
  {
   "cell_type": "code",
   "execution_count": 5,
   "id": "b04945c5",
   "metadata": {},
   "outputs": [
    {
     "data": {
      "text/plain": [
       "False"
      ]
     },
     "execution_count": 5,
     "metadata": {},
     "output_type": "execute_result"
    }
   ],
   "source": [
    "(True and True) and (True == False)"
   ]
  },
  {
   "cell_type": "code",
   "execution_count": 6,
   "id": "0dadc822",
   "metadata": {},
   "outputs": [
    {
     "data": {
      "text/plain": [
       "True"
      ]
     },
     "execution_count": 6,
     "metadata": {},
     "output_type": "execute_result"
    }
   ],
   "source": [
    "(not False) or (not True)"
   ]
  },
  {
   "cell_type": "markdown",
   "id": "4e574163",
   "metadata": {},
   "source": [
    "### 5. What are the six comparison operators?\n"
   ]
  },
  {
   "cell_type": "markdown",
   "id": "e62ab879",
   "metadata": {},
   "source": [
    "The six comparision operators are:\n",
    "\n",
    "(i) `>`, Greater than\n",
    "\n",
    "(ii) `<`, Less than\n",
    "\n",
    "(iii) `>=`, GreaterTHAN or equalto\n",
    "\n",
    "(iv) `<=`, Lessthan or equalto\n",
    "\n",
    "(v) `==`, Equalto\n",
    "\n",
    "(vi) `!=`, Not equalto"
   ]
  },
  {
   "cell_type": "markdown",
   "id": "9d915da7",
   "metadata": {},
   "source": [
    "### 6. How do you tell the difference between the equal to and assignment operators?Describe a condition and when you would use one.\n"
   ]
  },
  {
   "cell_type": "markdown",
   "id": "f7c616ff",
   "metadata": {},
   "source": [
    "In the assignment operator, a = 7, a + b = c\n",
    "\n",
    "and in the equalto operator, 9 == 9 will be True and 4 != 3 will be True"
   ]
  },
  {
   "cell_type": "markdown",
   "id": "1c18640f",
   "metadata": {},
   "source": [
    "### 7. Identify the three blocks in this code:\n",
    "\n",
    "spam = 0\n",
    "\n",
    "if spam == 10:\n",
    "\n",
    "print('eggs')\n",
    "\n",
    "if spam > 5:\n",
    "\n",
    "print('bacon')\n",
    "\n",
    "else:\n",
    "\n",
    "print('ham')\n",
    "\n",
    "print('spam')\n",
    "\n",
    "print('spam')\n"
   ]
  },
  {
   "cell_type": "code",
   "execution_count": 8,
   "id": "aea5a0a7",
   "metadata": {},
   "outputs": [
    {
     "name": "stdout",
     "output_type": "stream",
     "text": [
      "ham\n",
      "spam\n",
      "spam\n"
     ]
    }
   ],
   "source": [
    "spam = 0\n",
    "\n",
    "# First Block of code\n",
    "if spam == 10:\n",
    "    print('eggs')\n",
    "\n",
    "# 2nd Block of code\n",
    "if spam > 5:\n",
    "    print('bacon')\n",
    "\n",
    "# 3rd Block of code\n",
    "else:\n",
    "    print('ham')\n",
    "    print('spam')\n",
    "    print('spam')\n"
   ]
  },
  {
   "cell_type": "markdown",
   "id": "a8bc4adb",
   "metadata": {},
   "source": [
    "### 8. Write code that prints Hello if 1 is stored in spam, prints Howdy if 2 is stored in spam, and prints Greetings! if anything else is stored in spam.\n"
   ]
  },
  {
   "cell_type": "code",
   "execution_count": 12,
   "id": "b29b1b85",
   "metadata": {},
   "outputs": [
    {
     "name": "stdout",
     "output_type": "stream",
     "text": [
      "Enter 1, 2 or any other number: 4\n",
      "Greetings!\n"
     ]
    }
   ],
   "source": [
    "spam = int(input(\"Enter 1, 2 or any other number: \"))\n",
    "if spam == 1:\n",
    "    print(\"Hello\")\n",
    "elif spam == 2:\n",
    "    print(\"Howdy\")\n",
    "else:\n",
    "    print(\"Greetings!\")"
   ]
  },
  {
   "cell_type": "markdown",
   "id": "ac1625c1",
   "metadata": {},
   "source": [
    " ### 9.If your programme is stuck in an endless loop, what keys you’ll press?"
   ]
  },
  {
   "cell_type": "markdown",
   "id": "d9371821",
   "metadata": {},
   "source": [
    "### Ctrl + C"
   ]
  },
  {
   "cell_type": "markdown",
   "id": "7cf554a4",
   "metadata": {},
   "source": [
    "### 10. How can you tell the difference between break and continue?\n"
   ]
  },
  {
   "cell_type": "markdown",
   "id": "7d7c61ac",
   "metadata": {},
   "source": [
    "we use $break$ for completely coming out of the loop when particular condition is matched.\n",
    "\n",
    "we use $continue$ for giving the control back to the same loop while skipping that particular condition and carry on the loop."
   ]
  },
  {
   "cell_type": "markdown",
   "id": "62f16931",
   "metadata": {},
   "source": [
    "### 11. In a for loop, what is the difference between range(10), range(0, 10), and range(0, 10, 1)?"
   ]
  },
  {
   "cell_type": "markdown",
   "id": "e040176b",
   "metadata": {},
   "source": [
    "There is no difference between range(10), range(0,10), and range(0,10,1) because range(10) will output values from 0 to 10 taking the lower value as zero without mentioning and also there will be a step size of 1 by default, it is upto us for particularly mentioning it or not as shown in the code below:"
   ]
  },
  {
   "cell_type": "code",
   "execution_count": 14,
   "id": "a820e89b",
   "metadata": {},
   "outputs": [
    {
     "data": {
      "text/plain": [
       "range(0, 10)"
      ]
     },
     "execution_count": 14,
     "metadata": {},
     "output_type": "execute_result"
    }
   ],
   "source": [
    "range(10)"
   ]
  },
  {
   "cell_type": "code",
   "execution_count": 15,
   "id": "90720db0",
   "metadata": {},
   "outputs": [
    {
     "data": {
      "text/plain": [
       "range(0, 10)"
      ]
     },
     "execution_count": 15,
     "metadata": {},
     "output_type": "execute_result"
    }
   ],
   "source": [
    "range(0,10)"
   ]
  },
  {
   "cell_type": "code",
   "execution_count": 16,
   "id": "3f208055",
   "metadata": {},
   "outputs": [
    {
     "data": {
      "text/plain": [
       "range(0, 10)"
      ]
     },
     "execution_count": 16,
     "metadata": {},
     "output_type": "execute_result"
    }
   ],
   "source": [
    "range(0,10,1)"
   ]
  },
  {
   "cell_type": "markdown",
   "id": "924e7938",
   "metadata": {},
   "source": [
    "### 12. Write a short program that prints the numbers 1 to 10 using a for loop. Then write an equivalent program that prints the numbers 1 to 10 using a while loop."
   ]
  },
  {
   "cell_type": "code",
   "execution_count": 19,
   "id": "5187e439",
   "metadata": {},
   "outputs": [
    {
     "name": "stdout",
     "output_type": "stream",
     "text": [
      "0 1 2 3 4 5 6 7 8 9 10 "
     ]
    }
   ],
   "source": [
    "for i in range(11):\n",
    "    print(i, end = ' ')"
   ]
  },
  {
   "cell_type": "code",
   "execution_count": 20,
   "id": "3dfdb117",
   "metadata": {},
   "outputs": [
    {
     "name": "stdout",
     "output_type": "stream",
     "text": [
      "0 1 2 3 4 5 6 7 8 9 10 "
     ]
    }
   ],
   "source": [
    "i = 0\n",
    "while i < 11:\n",
    "    print(i, end = ' ')\n",
    "    i = i + 1"
   ]
  },
  {
   "cell_type": "markdown",
   "id": "454e40e3",
   "metadata": {},
   "source": [
    "### 13. If you had a function named bacon() inside a module named spam, how would you call it after importing spam?\n"
   ]
  },
  {
   "cell_type": "markdown",
   "id": "9150ad02",
   "metadata": {},
   "source": [
    "#### First of all importing the module\n",
    "import spam as sp\n",
    "\n",
    "#### then call bacon() function using the alias sp\n",
    "\n",
    "sp.bacon()\n"
   ]
  },
  {
   "cell_type": "code",
   "execution_count": null,
   "id": "a98e3108",
   "metadata": {},
   "outputs": [],
   "source": []
  }
 ],
 "metadata": {
  "kernelspec": {
   "display_name": "Python 3 (ipykernel)",
   "language": "python",
   "name": "python3"
  },
  "language_info": {
   "codemirror_mode": {
    "name": "ipython",
    "version": 3
   },
   "file_extension": ".py",
   "mimetype": "text/x-python",
   "name": "python",
   "nbconvert_exporter": "python",
   "pygments_lexer": "ipython3",
   "version": "3.9.7"
  }
 },
 "nbformat": 4,
 "nbformat_minor": 5
}
