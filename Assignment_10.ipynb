{
 "cells": [
  {
   "cell_type": "markdown",
   "id": "9448de18",
   "metadata": {},
   "source": [
    "### 1. How do you distinguish between shutil.copy() and shutil.copytree()?"
   ]
  },
  {
   "cell_type": "markdown",
   "id": "e93de8b0",
   "metadata": {},
   "source": [
    "### For copying a single file shutil.copy() is used and for folder and all of its content to another destination,we use shutil.copytree()"
   ]
  },
  {
   "cell_type": "markdown",
   "id": "286d3e25",
   "metadata": {},
   "source": [
    "### 2. What function is used to rename files??"
   ]
  },
  {
   "cell_type": "markdown",
   "id": "dab922e9",
   "metadata": {},
   "source": [
    "### $os.rename()$"
   ]
  },
  {
   "cell_type": "markdown",
   "id": "c8121063",
   "metadata": {},
   "source": [
    "### 3. What is the difference between the delete functions in the send2trash and shutil modules?"
   ]
  },
  {
   "cell_type": "markdown",
   "id": "f0649efb",
   "metadata": {},
   "source": [
    "### $send2trash$ moves the files to bin while $shutil$ will permanently delete the file."
   ]
  },
  {
   "cell_type": "markdown",
   "id": "b7abb7b8",
   "metadata": {},
   "source": [
    "### 4.ZipFile objects have a close() method just like File objects’ close() method. What ZipFile method is equivalent to File objects’ open() method?"
   ]
  },
  {
   "cell_type": "markdown",
   "id": "6a11479a",
   "metadata": {},
   "source": [
    "### zipfile.ZipFile(\"file_name\", \"mode in which we want to open\")"
   ]
  },
  {
   "cell_type": "markdown",
   "id": "b1d635fb",
   "metadata": {},
   "source": [
    "### 5. Create a programme that searches a folder tree for files with a certain file extension (such as .pdf or .jpg). Copy these files from whatever location they are in to a new folder."
   ]
  },
  {
   "cell_type": "code",
   "execution_count": 3,
   "id": "5831d9f0",
   "metadata": {},
   "outputs": [
    {
     "name": "stdout",
     "output_type": "stream",
     "text": [
      "Looking in C:\\Users\\Rohit\\Assignments FSDS\\randomFolder for files with extensions of .pdf, .jpg\n"
     ]
    }
   ],
   "source": [
    "import os, shutil\n",
    "\n",
    "def searchfolder(folder, extensions, destFolder):\n",
    "    folder = os.path.abspath(folder)\n",
    "    destFolder = os.path.abspath(destFolder)\n",
    "    print('Looking in', folder, 'for files with extensions of', ', '.join(extensions))\n",
    "    for foldername, subfolders, filenames in os.walk(folder):\n",
    "        for filename in filenames:\n",
    "            name, extension = os.path.splitext(filename)\n",
    "            if extension in extensions:\n",
    "                fileAbsPath = foldername + os.path.sep + filename\n",
    "                print('Coping', fileAbsPath, 'to', destFolder)\n",
    "                shutil.copy(fileAbsPath, destFolder)\n",
    "\n",
    "extensions = ['.pdf', '.jpg']\n",
    "folder = 'randomFolder'\n",
    "destFolder = 'selectiveFolder'\n",
    "selectiveCopy(folder, extensions, destFolder)"
   ]
  },
  {
   "cell_type": "code",
   "execution_count": null,
   "id": "defc7eab",
   "metadata": {},
   "outputs": [],
   "source": []
  }
 ],
 "metadata": {
  "kernelspec": {
   "display_name": "Python 3 (ipykernel)",
   "language": "python",
   "name": "python3"
  },
  "language_info": {
   "codemirror_mode": {
    "name": "ipython",
    "version": 3
   },
   "file_extension": ".py",
   "mimetype": "text/x-python",
   "name": "python",
   "nbconvert_exporter": "python",
   "pygments_lexer": "ipython3",
   "version": "3.9.7"
  }
 },
 "nbformat": 4,
 "nbformat_minor": 5
}
