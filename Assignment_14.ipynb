{
 "cells": [
  {
   "cell_type": "markdown",
   "id": "160b7744",
   "metadata": {},
   "source": [
    "### 1. What does RGBA stand for?"
   ]
  },
  {
   "cell_type": "markdown",
   "id": "5b78ddd3",
   "metadata": {},
   "source": [
    "### `Red-Green-Blue-Alpha`"
   ]
  },
  {
   "cell_type": "markdown",
   "id": "6a7c7477",
   "metadata": {},
   "source": [
    "### 2. From the Pillow module, how do you get the RGBA value of any images?"
   ]
  },
  {
   "cell_type": "code",
   "execution_count": 2,
   "id": "b74d623d",
   "metadata": {},
   "outputs": [
    {
     "data": {
      "text/plain": [
       "(255, 0, 0, 255)"
      ]
     },
     "execution_count": 2,
     "metadata": {},
     "output_type": "execute_result"
    }
   ],
   "source": [
    "from PIL import ImageColor\n",
    "ImageColor.getcolor(\"red\", \"RGBA\")"
   ]
  },
  {
   "cell_type": "markdown",
   "id": "d7ca97e5",
   "metadata": {},
   "source": [
    "### 3. What is a box tuple, and how does it work?"
   ]
  },
  {
   "cell_type": "markdown",
   "id": "c8516116",
   "metadata": {},
   "source": [
    "### Many of Pillow’s functions and methods take a box tuple argument. Pillow is expecting a tuple of four integer coordinates that represent a rectangular region in an image. \n",
    "\n",
    "### `Left`, `Top`, `Right`, `Bottom`"
   ]
  },
  {
   "cell_type": "markdown",
   "id": "f3faa56b",
   "metadata": {},
   "source": [
    "### 4. Use your image and load in notebook then, How can you find out the width and height of an Image object?"
   ]
  },
  {
   "cell_type": "code",
   "execution_count": 4,
   "id": "c4179343",
   "metadata": {},
   "outputs": [],
   "source": [
    "from PIL import Image"
   ]
  },
  {
   "cell_type": "code",
   "execution_count": 6,
   "id": "9f657c7c",
   "metadata": {},
   "outputs": [],
   "source": [
    "cat_image = Image.open('000039.jpg')"
   ]
  },
  {
   "cell_type": "code",
   "execution_count": 7,
   "id": "50edca1a",
   "metadata": {},
   "outputs": [],
   "source": [
    "width, height = cat_image.size"
   ]
  },
  {
   "cell_type": "code",
   "execution_count": 8,
   "id": "f575f307",
   "metadata": {},
   "outputs": [
    {
     "data": {
      "text/plain": [
       "400"
      ]
     },
     "execution_count": 8,
     "metadata": {},
     "output_type": "execute_result"
    }
   ],
   "source": [
    "width"
   ]
  },
  {
   "cell_type": "code",
   "execution_count": 9,
   "id": "029a2f10",
   "metadata": {},
   "outputs": [
    {
     "data": {
      "text/plain": [
       "533"
      ]
     },
     "execution_count": 9,
     "metadata": {},
     "output_type": "execute_result"
    }
   ],
   "source": [
    "height"
   ]
  },
  {
   "cell_type": "markdown",
   "id": "93945ea0",
   "metadata": {},
   "source": [
    "### 5. What method would you call to get Image object for a 100×100 image, excluding the lower-left quarter of it?"
   ]
  },
  {
   "cell_type": "markdown",
   "id": "2787e743",
   "metadata": {},
   "source": [
    "### cat_image.crop()"
   ]
  },
  {
   "cell_type": "markdown",
   "id": "06ebe8ba",
   "metadata": {},
   "source": [
    "### 6. After making changes to an Image object, how could you save it as an image file?"
   ]
  },
  {
   "cell_type": "markdown",
   "id": "fc8e77df",
   "metadata": {},
   "source": [
    "### cat_image_new.save('0000391.jpg')"
   ]
  },
  {
   "cell_type": "markdown",
   "id": "9c78a131",
   "metadata": {},
   "source": [
    "### 7. What module contains Pillow’s shape-drawing code?"
   ]
  },
  {
   "cell_type": "markdown",
   "id": "c3008f80",
   "metadata": {},
   "source": [
    "### ImageDraw module"
   ]
  },
  {
   "cell_type": "markdown",
   "id": "22ba825f",
   "metadata": {},
   "source": [
    "### 8. Image objects do not have drawing methods. What kind of object does? How do you get this kind of object?"
   ]
  },
  {
   "cell_type": "markdown",
   "id": "36a5ed65",
   "metadata": {},
   "source": [
    "### After importing Image, ImageDraw, ImageFont, and os, we make an Image object for a image, and make an ImageDraw object from the Image object"
   ]
  },
  {
   "cell_type": "code",
   "execution_count": null,
   "id": "b9ce4029",
   "metadata": {},
   "outputs": [],
   "source": []
  }
 ],
 "metadata": {
  "kernelspec": {
   "display_name": "Python 3 (ipykernel)",
   "language": "python",
   "name": "python3"
  },
  "language_info": {
   "codemirror_mode": {
    "name": "ipython",
    "version": 3
   },
   "file_extension": ".py",
   "mimetype": "text/x-python",
   "name": "python",
   "nbconvert_exporter": "python",
   "pygments_lexer": "ipython3",
   "version": "3.9.7"
  }
 },
 "nbformat": 4,
 "nbformat_minor": 5
}
