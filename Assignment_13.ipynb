{
 "cells": [
  {
   "cell_type": "markdown",
   "id": "0d8020b6",
   "metadata": {},
   "source": [
    "### 1. What advantages do Excel spreadsheets have over CSV spreadsheets?"
   ]
  },
  {
   "cell_type": "markdown",
   "id": "3309dcc1",
   "metadata": {},
   "source": [
    "### Excel gives the user power to manipulate the data whereas csv stores data as it is.\n",
    "\n",
    "### Excel gives the user the power for external data add on and in csv it is not possible."
   ]
  },
  {
   "cell_type": "markdown",
   "id": "6552a84f",
   "metadata": {},
   "source": [
    "### 2.What do you pass to csv.reader() and csv.writer() to create reader and writer objects?"
   ]
  },
  {
   "cell_type": "markdown",
   "id": "a0196edb",
   "metadata": {},
   "source": [
    "### in csv.reader('csvfilename', dialect = 'excel')\n",
    "\n",
    "### in csv.writer('csvfilename', dialect = 'excel')"
   ]
  },
  {
   "cell_type": "markdown",
   "id": "9c9e45fa",
   "metadata": {},
   "source": [
    "### 3. What modes do File objects for reader and writer objects need to be opened in?"
   ]
  },
  {
   "cell_type": "markdown",
   "id": "b1aaf763",
   "metadata": {},
   "source": [
    "### for reading `r`, if not exists error will pop up\n",
    "\n",
    "### for writing `w`, if not exists create one and if exists truncates the existing file"
   ]
  },
  {
   "cell_type": "markdown",
   "id": "53b15e04",
   "metadata": {},
   "source": [
    "### 4. What method takes a list argument and writes it to a CSV file?"
   ]
  },
  {
   "cell_type": "markdown",
   "id": "f8062ee0",
   "metadata": {},
   "source": [
    "### object_name.writerow(list_as_input)"
   ]
  },
  {
   "cell_type": "markdown",
   "id": "a4f00b10",
   "metadata": {},
   "source": [
    "### 5. What do the keyword arguments delimiter and line terminator do?"
   ]
  },
  {
   "cell_type": "markdown",
   "id": "833af90a",
   "metadata": {},
   "source": [
    "### By default `delimiter` is comma in csv file, but we can change it to '\\t' and increase space and sometimes the files are by default separated by tab also and we can read the file by changing the default delimiter to tab from comma.\n",
    "\n",
    "### `line terminator` is the whitespace at the end of the line which is a new line, we can change it to '\\n\\n' and two new lines will be created at the end."
   ]
  },
  {
   "cell_type": "markdown",
   "id": "64f7b346",
   "metadata": {},
   "source": [
    "### 6. What function takes a string of JSON data and returns a Python data structure?"
   ]
  },
  {
   "cell_type": "markdown",
   "id": "de99d741",
   "metadata": {},
   "source": [
    "### `json.loads()`"
   ]
  },
  {
   "cell_type": "markdown",
   "id": "ef58b3db",
   "metadata": {},
   "source": [
    "### 7. What function takes a Python data structure and returns a string of JSON data?"
   ]
  },
  {
   "cell_type": "markdown",
   "id": "818d85c0",
   "metadata": {},
   "source": [
    "### `json.dumps()`"
   ]
  },
  {
   "cell_type": "code",
   "execution_count": null,
   "id": "011af342",
   "metadata": {},
   "outputs": [],
   "source": []
  }
 ],
 "metadata": {
  "kernelspec": {
   "display_name": "Python 3 (ipykernel)",
   "language": "python",
   "name": "python3"
  },
  "language_info": {
   "codemirror_mode": {
    "name": "ipython",
    "version": 3
   },
   "file_extension": ".py",
   "mimetype": "text/x-python",
   "name": "python",
   "nbconvert_exporter": "python",
   "pygments_lexer": "ipython3",
   "version": "3.9.7"
  }
 },
 "nbformat": 4,
 "nbformat_minor": 5
}
