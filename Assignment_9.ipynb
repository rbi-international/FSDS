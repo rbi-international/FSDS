{
 "cells": [
  {
   "cell_type": "markdown",
   "id": "ce87bdf6",
   "metadata": {},
   "source": [
    "### 1. To what does a relative path refer?"
   ]
  },
  {
   "cell_type": "markdown",
   "id": "a99e6ede",
   "metadata": {},
   "source": [
    "### relative path refers to the current directory in which we are working."
   ]
  },
  {
   "cell_type": "markdown",
   "id": "e0b51283",
   "metadata": {},
   "source": [
    "### 2. What does an absolute path start with your operating system?"
   ]
  },
  {
   "cell_type": "markdown",
   "id": "9b3bca8a",
   "metadata": {},
   "source": [
    "### absolute path contains root element and complete path."
   ]
  },
  {
   "cell_type": "markdown",
   "id": "f1fc67ff",
   "metadata": {},
   "source": [
    "### 3. What do the functions os.getcwd() and os.chdir() do?"
   ]
  },
  {
   "cell_type": "markdown",
   "id": "e0d29878",
   "metadata": {},
   "source": [
    "### `os.getcwd()`, gives the current working directory\n",
    "\n",
    "## `os.chdir()`, will change the current working directory by giving the path."
   ]
  },
  {
   "cell_type": "markdown",
   "id": "cf0bc020",
   "metadata": {},
   "source": [
    "### 4. What are the . and .. folders?"
   ]
  },
  {
   "cell_type": "markdown",
   "id": "4b7091c4",
   "metadata": {},
   "source": [
    "### `.` means the current folder\n",
    "\n",
    "### `..` means the parent folder"
   ]
  },
  {
   "cell_type": "markdown",
   "id": "03b6d582",
   "metadata": {},
   "source": [
    "### 5. In C:\\bacon\\eggs\\spam.txt, which part is the dir name, and which part is the base name?"
   ]
  },
  {
   "cell_type": "markdown",
   "id": "8192f38a",
   "metadata": {},
   "source": [
    "### `spam.txt`, is the base name\n",
    "\n",
    "### `c:\\bacon\\eggs`, is the dir name"
   ]
  },
  {
   "cell_type": "markdown",
   "id": "6edc1fb1",
   "metadata": {},
   "source": [
    "### 6. What are the three “mode” arguments that can be passed to the open() function?"
   ]
  },
  {
   "cell_type": "markdown",
   "id": "d6dbf527",
   "metadata": {},
   "source": [
    "### `r`, read\n",
    "\n",
    "### `w`,  write\n",
    "\n",
    "### `x`,  create a new file and open it for writing"
   ]
  },
  {
   "cell_type": "markdown",
   "id": "46f5398c",
   "metadata": {},
   "source": [
    "### 7. What happens if an existing file is opened in write mode?"
   ]
  },
  {
   "cell_type": "markdown",
   "id": "57951077",
   "metadata": {},
   "source": [
    "### we can overwrite the content of the file"
   ]
  },
  {
   "cell_type": "markdown",
   "id": "c94817b5",
   "metadata": {},
   "source": [
    "### 8. How do you tell the difference between read() and readlines()?"
   ]
  },
  {
   "cell_type": "markdown",
   "id": "ff0ced89",
   "metadata": {},
   "source": [
    "### read() will bring the marker to the end of the file at once\n",
    "\n",
    "### readlines() will read line by line not a complete file at once"
   ]
  },
  {
   "cell_type": "markdown",
   "id": "4b4a4baf",
   "metadata": {},
   "source": [
    "### 9. What data structure does a shelf value resemble?"
   ]
  },
  {
   "cell_type": "markdown",
   "id": "7f12445e",
   "metadata": {},
   "source": [
    "### it looks like a dictionary key and value pair"
   ]
  },
  {
   "cell_type": "code",
   "execution_count": null,
   "id": "1584c42c",
   "metadata": {},
   "outputs": [],
   "source": []
  }
 ],
 "metadata": {
  "kernelspec": {
   "display_name": "Python 3 (ipykernel)",
   "language": "python",
   "name": "python3"
  },
  "language_info": {
   "codemirror_mode": {
    "name": "ipython",
    "version": 3
   },
   "file_extension": ".py",
   "mimetype": "text/x-python",
   "name": "python",
   "nbconvert_exporter": "python",
   "pygments_lexer": "ipython3",
   "version": "3.9.7"
  }
 },
 "nbformat": 4,
 "nbformat_minor": 5
}
