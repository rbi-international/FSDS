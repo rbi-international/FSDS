{
 "cells": [
  {
   "cell_type": "markdown",
   "id": "e797a561",
   "metadata": {},
   "source": [
    "### 1. Why are functions advantageous to have in your programs?"
   ]
  },
  {
   "cell_type": "markdown",
   "id": "f03c2b8c",
   "metadata": {},
   "source": [
    "### By using functions we can use the logic many times in our programs, we just have to write once and use as many times as we want by just calling the function."
   ]
  },
  {
   "cell_type": "markdown",
   "id": "b10da374",
   "metadata": {},
   "source": [
    "### 2. When does the code in a function run: when it's specified or when it's called?"
   ]
  },
  {
   "cell_type": "markdown",
   "id": "fbdf6d3b",
   "metadata": {},
   "source": [
    "### The code in a function will run when it will be $called$."
   ]
  },
  {
   "cell_type": "markdown",
   "id": "5e9f6002",
   "metadata": {},
   "source": [
    "### 3. What statement creates a function?"
   ]
  },
  {
   "cell_type": "markdown",
   "id": "1742d16d",
   "metadata": {},
   "source": [
    "### $def$ is the keyword for creating a function:\n",
    "\n",
    "def function_name(parameters if you want):\n",
    "\n",
    "    return or print some statement"
   ]
  },
  {
   "cell_type": "markdown",
   "id": "6d995bcb",
   "metadata": {},
   "source": [
    "### 4. What is the difference between a function and a function call?"
   ]
  },
  {
   "cell_type": "markdown",
   "id": "782c50a2",
   "metadata": {},
   "source": [
    "### A function is made for some particular task and all instructions and it's methods are defined.\n",
    "\n",
    "### While a function call can be made anywhere in our whole program and it will implement the tasks for which it was made"
   ]
  },
  {
   "cell_type": "markdown",
   "id": "352b18e9",
   "metadata": {},
   "source": [
    "### 5. How many global scopes are there in a Python program? How many local scopes?"
   ]
  },
  {
   "cell_type": "markdown",
   "id": "5b47bb4a",
   "metadata": {},
   "source": [
    "### There is one Global scope in a python program\n",
    "\n",
    "### There is one local scope in a python program and there is also one built-in scope."
   ]
  },
  {
   "cell_type": "markdown",
   "id": "8b6e09d5",
   "metadata": {},
   "source": [
    "### 6. What happens to variables in a local scope when the function call returns?"
   ]
  },
  {
   "cell_type": "markdown",
   "id": "afa6ea27",
   "metadata": {},
   "source": [
    "### The variables in a local scope are for one time use only inside a function, when the function call returns, then the local variables scope finishes."
   ]
  },
  {
   "cell_type": "markdown",
   "id": "ca87ed2c",
   "metadata": {},
   "source": [
    "### 7. What is the concept of a return value? Is it possible to have a return value in an expression?"
   ]
  },
  {
   "cell_type": "markdown",
   "id": "4131d29d",
   "metadata": {},
   "source": [
    "### the return value returns the end result which we instructed in a function. Yes, when we use return value in a function with the $expression$ it will return its value and then we could use that value for doing some other manipulation. "
   ]
  },
  {
   "cell_type": "markdown",
   "id": "f7e7bd49",
   "metadata": {},
   "source": [
    "### 8. If a function does not have a return statement, what is the return value of a call to that function?"
   ]
  },
  {
   "cell_type": "markdown",
   "id": "13c176b9",
   "metadata": {},
   "source": [
    "### if print statement is used $None$ will be returned as that value could not be used for any other manipulation. "
   ]
  },
  {
   "cell_type": "markdown",
   "id": "6f9268df",
   "metadata": {},
   "source": [
    "### 9. How do you make a function variable refer to the global variable?"
   ]
  },
  {
   "cell_type": "markdown",
   "id": "db4c0eab",
   "metadata": {},
   "source": [
    "### 10. What is the data type of None?"
   ]
  },
  {
   "cell_type": "markdown",
   "id": "2a075784",
   "metadata": {},
   "source": [
    "### It is datatype of class $NoneType object$"
   ]
  },
  {
   "cell_type": "markdown",
   "id": "4e2e53db",
   "metadata": {},
   "source": [
    "### 11. What does the sentence import areallyourpetsnamederic do?"
   ]
  },
  {
   "cell_type": "markdown",
   "id": "ea03f2c8",
   "metadata": {},
   "source": [
    "### this sentence will import this particular module and we could use every method defined in this module and use them by calling the functions."
   ]
  },
  {
   "cell_type": "markdown",
   "id": "523261ce",
   "metadata": {},
   "source": [
    "### 12. If you had a bacon() feature in a spam module, what would you call it after importing spam?"
   ]
  },
  {
   "cell_type": "markdown",
   "id": "91b464a5",
   "metadata": {},
   "source": [
    "### spam.bacon()"
   ]
  },
  {
   "cell_type": "markdown",
   "id": "24176ae4",
   "metadata": {},
   "source": [
    "### 13. What can you do to save a programme from crashing if it encounters an error?"
   ]
  },
  {
   "cell_type": "markdown",
   "id": "0411057a",
   "metadata": {},
   "source": [
    "### we can use exception handling"
   ]
  },
  {
   "cell_type": "markdown",
   "id": "52ebcd54",
   "metadata": {},
   "source": [
    "### 14. What is the purpose of the try clause? What is the purpose of the except clause?"
   ]
  },
  {
   "cell_type": "markdown",
   "id": "fe7f823f",
   "metadata": {},
   "source": [
    "### Try clause is used to enclose that part of the code in which we think the program can encounter error.\n",
    "\n",
    "### Except clause is used to show what the exception has occurred and the program will move ahead without crashing."
   ]
  },
  {
   "cell_type": "code",
   "execution_count": null,
   "id": "aae2a47b",
   "metadata": {},
   "outputs": [],
   "source": []
  }
 ],
 "metadata": {
  "kernelspec": {
   "display_name": "Python 3 (ipykernel)",
   "language": "python",
   "name": "python3"
  },
  "language_info": {
   "codemirror_mode": {
    "name": "ipython",
    "version": 3
   },
   "file_extension": ".py",
   "mimetype": "text/x-python",
   "name": "python",
   "nbconvert_exporter": "python",
   "pygments_lexer": "ipython3",
   "version": "3.9.7"
  }
 },
 "nbformat": 4,
 "nbformat_minor": 5
}
